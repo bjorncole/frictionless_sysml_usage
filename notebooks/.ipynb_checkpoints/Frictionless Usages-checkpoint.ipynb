{
 "cells": [
  {
   "cell_type": "markdown",
   "metadata": {},
   "source": [
    "# Frictionless Usage Model Data"
   ]
  },
  {
   "cell_type": "markdown",
   "metadata": {},
   "source": [
    "*Copyright (c) 2020, Bjorn F Cole*"
   ]
  },
  {
   "cell_type": "markdown",
   "metadata": {},
   "source": [
    "This notebook is meant to demonstrate a bridging of the gap between how usages are used in SysML and how to \"flatten\" them into a spreadsheet that is intuitive to many engineers.\n",
    "\n",
    "This also demonstrates normalizing the data in some common patterns to a form that is easier to process."
   ]
  },
  {
   "cell_type": "markdown",
   "metadata": {},
   "source": [
    "## Load Excel data"
   ]
  },
  {
   "cell_type": "code",
   "execution_count": 1,
   "metadata": {},
   "outputs": [],
   "source": [
    "import frictionless\n",
    "import datapackage as DP\n",
    "import xlwings as XL\n",
    "import inspect"
   ]
  },
  {
   "cell_type": "code",
   "execution_count": 2,
   "metadata": {},
   "outputs": [],
   "source": [
    "wb = XL.Book('Example Models\\\\House Frame.xlsx')"
   ]
  },
  {
   "cell_type": "code",
   "execution_count": 3,
   "metadata": {},
   "outputs": [
    {
     "data": {
      "text/plain": [
       "<Book [House Frame.xlsx]>"
      ]
     },
     "execution_count": 3,
     "metadata": {},
     "output_type": "execute_result"
    }
   ],
   "source": [
    "wb"
   ]
  },
  {
   "cell_type": "code",
   "execution_count": 4,
   "metadata": {},
   "outputs": [],
   "source": [
    "work_sheet = wb.sheets('Sheet1')"
   ]
  },
  {
   "cell_type": "code",
   "execution_count": 5,
   "metadata": {},
   "outputs": [],
   "source": [
    "test_val = work_sheet.range('A1').merge_area"
   ]
  },
  {
   "cell_type": "markdown",
   "metadata": {},
   "source": [
    "The xlwings package can have Excel report what is actually used. Preferably this is a single block of data:"
   ]
  },
  {
   "cell_type": "code",
   "execution_count": 6,
   "metadata": {},
   "outputs": [],
   "source": [
    "used_area = work_sheet.used_range"
   ]
  },
  {
   "cell_type": "markdown",
   "metadata": {},
   "source": [
    "## Normalize Excel data"
   ]
  },
  {
   "cell_type": "markdown",
   "metadata": {},
   "source": [
    "A common pattern is to denote part hierarchies through the use of merged cells showing all the children of a common parent. The first thing is to make a normalized grid from this.\n",
    "\n",
    "We assume that this reads left to right."
   ]
  },
  {
   "cell_type": "code",
   "execution_count": 7,
   "metadata": {},
   "outputs": [],
   "source": [
    "original_value = used_area.value"
   ]
  },
  {
   "cell_type": "code",
   "execution_count": 8,
   "metadata": {},
   "outputs": [
    {
     "data": {
      "text/plain": [
       "[<Range [House Frame.xlsx]Sheet1!$C$4:$C$13>,\n",
       " <Range [House Frame.xlsx]Sheet1!$D$4:$D$7>,\n",
       " <Range [House Frame.xlsx]Sheet1!$D$8:$D$13>]"
      ]
     },
     "execution_count": 8,
     "metadata": {},
     "output_type": "execute_result"
    }
   ],
   "source": [
    "merges = []\n",
    "\n",
    "for rang in used_area:\n",
    "    merge_look = rang.merge_area\n",
    "    if merge_look.shape != (1, 1):\n",
    "        if merge_look not in merges:\n",
    "            merges.append(merge_look)\n",
    "            \n",
    "merges"
   ]
  },
  {
   "cell_type": "code",
   "execution_count": 9,
   "metadata": {},
   "outputs": [
    {
     "data": {
      "text/plain": [
       "[['House Frame', 'Floor Frame', 'Sill Plate'],\n",
       " [None, None, 'Joist'],\n",
       " [None, None, 'Girder'],\n",
       " [None, None, 'Floor Panel'],\n",
       " [None, 'Wall Frame', 'Top Plate'],\n",
       " [None, None, 'Bottom Plate'],\n",
       " [None, None, 'Stud : Dimensional Lumber'],\n",
       " [None, None, 'Header'],\n",
       " [None, None, 'Cripple Stud : Dimensional Lumber'],\n",
       " [None, None, 'Sill']]"
      ]
     },
     "execution_count": 9,
     "metadata": {},
     "output_type": "execute_result"
    }
   ],
   "source": [
    "original_value"
   ]
  },
  {
   "cell_type": "code",
   "execution_count": 10,
   "metadata": {},
   "outputs": [
    {
     "data": {
      "text/plain": [
       "[4, 3]"
      ]
     },
     "execution_count": 10,
     "metadata": {},
     "output_type": "execute_result"
    }
   ],
   "source": [
    "row_offset = used_area.row\n",
    "col_offset = used_area.column\n",
    "[row_offset, col_offset]"
   ]
  },
  {
   "cell_type": "code",
   "execution_count": 11,
   "metadata": {},
   "outputs": [],
   "source": [
    "for merg in merges:\n",
    "    for inc_row in range(0, merg.shape[0]):\n",
    "        original_value[inc_row + merg.row - row_offset]\\\n",
    "                      [merg.column - col_offset] = merg.value[0]"
   ]
  },
  {
   "cell_type": "code",
   "execution_count": 12,
   "metadata": {},
   "outputs": [
    {
     "data": {
      "text/plain": [
       "[['House Frame', 'Floor Frame', 'Sill Plate'],\n",
       " ['House Frame', 'Floor Frame', 'Joist'],\n",
       " ['House Frame', 'Floor Frame', 'Girder'],\n",
       " ['House Frame', 'Floor Frame', 'Floor Panel'],\n",
       " ['House Frame', 'Wall Frame', 'Top Plate'],\n",
       " ['House Frame', 'Wall Frame', 'Bottom Plate'],\n",
       " ['House Frame', 'Wall Frame', 'Stud : Dimensional Lumber'],\n",
       " ['House Frame', 'Wall Frame', 'Header'],\n",
       " ['House Frame', 'Wall Frame', 'Cripple Stud : Dimensional Lumber'],\n",
       " ['House Frame', 'Wall Frame', 'Sill']]"
      ]
     },
     "execution_count": 12,
     "metadata": {},
     "output_type": "execute_result"
    }
   ],
   "source": [
    "original_value"
   ]
  },
  {
   "cell_type": "markdown",
   "metadata": {},
   "source": [
    "## Gather Unique Pairs"
   ]
  },
  {
   "cell_type": "markdown",
   "metadata": {},
   "source": [
    "Look at the data grid and find unique pairs between columns:"
   ]
  },
  {
   "cell_type": "code",
   "execution_count": 13,
   "metadata": {},
   "outputs": [
    {
     "data": {
      "text/plain": [
       "[['House Frame', 'Floor Frame'],\n",
       " ['Floor Frame', 'Sill Plate'],\n",
       " ['Floor Frame', 'Joist'],\n",
       " ['Floor Frame', 'Girder'],\n",
       " ['Floor Frame', 'Floor Panel'],\n",
       " ['House Frame', 'Wall Frame'],\n",
       " ['Wall Frame', 'Top Plate'],\n",
       " ['Wall Frame', 'Bottom Plate'],\n",
       " ['Wall Frame', 'Stud : Dimensional Lumber'],\n",
       " ['Wall Frame', 'Header'],\n",
       " ['Wall Frame', 'Cripple Stud : Dimensional Lumber'],\n",
       " ['Wall Frame', 'Sill']]"
      ]
     },
     "execution_count": 13,
     "metadata": {},
     "output_type": "execute_result"
    }
   ],
   "source": [
    "# TODO: Can be made more sophisticated by looking at metadata from a package\n",
    "#       that labels columns by semantic relationship\n",
    "\n",
    "unique_pairs = []\n",
    "\n",
    "for row in original_value:\n",
    "    for scan in range(0, len(row) - 1):\n",
    "        rel_pair = [row[scan], row[scan + 1]]\n",
    "        if rel_pair not in unique_pairs:\n",
    "            unique_pairs.append(rel_pair)\n",
    "            \n",
    "unique_pairs"
   ]
  },
  {
   "cell_type": "markdown",
   "metadata": {},
   "source": [
    "## Expand Usages"
   ]
  },
  {
   "cell_type": "markdown",
   "metadata": {},
   "source": [
    "In many cases, there is only one usage per definition, so that usage and definition can be given the same name (or usages given a default definition). The exceptions to this are to be noted with the colon notation."
   ]
  },
  {
   "cell_type": "code",
   "execution_count": 14,
   "metadata": {},
   "outputs": [],
   "source": [
    "defs_list = []\n",
    "\n",
    "for pair in unique_pairs:\n",
    "    usage_name = ''\n",
    "    definition_name = ''\n",
    "    \n",
    "    split_try = pair[1].split(\":\")\n",
    "    \n",
    "    if len(split_try) > 1:\n",
    "        usage_name = split_try[0].strip()\n",
    "        definition_name = split_try[1].strip()\n",
    "    else:\n",
    "        usage_name = split_try[0]\n",
    "        definition_name = split_try[0]\n",
    "        \n",
    "    defs_list.append([pair[0] + \"::\" + usage_name, usage_name, pair[0], definition_name])"
   ]
  },
  {
   "cell_type": "code",
   "execution_count": 15,
   "metadata": {},
   "outputs": [
    {
     "data": {
      "text/plain": [
       "[['House Frame::Floor Frame', 'Floor Frame', 'House Frame', 'Floor Frame'],\n",
       " ['Floor Frame::Sill Plate', 'Sill Plate', 'Floor Frame', 'Sill Plate'],\n",
       " ['Floor Frame::Joist', 'Joist', 'Floor Frame', 'Joist'],\n",
       " ['Floor Frame::Girder', 'Girder', 'Floor Frame', 'Girder'],\n",
       " ['Floor Frame::Floor Panel', 'Floor Panel', 'Floor Frame', 'Floor Panel'],\n",
       " ['House Frame::Wall Frame', 'Wall Frame', 'House Frame', 'Wall Frame'],\n",
       " ['Wall Frame::Top Plate', 'Top Plate', 'Wall Frame', 'Top Plate'],\n",
       " ['Wall Frame::Bottom Plate', 'Bottom Plate', 'Wall Frame', 'Bottom Plate'],\n",
       " ['Wall Frame::Stud', 'Stud', 'Wall Frame', 'Dimensional Lumber'],\n",
       " ['Wall Frame::Header', 'Header', 'Wall Frame', 'Header'],\n",
       " ['Wall Frame::Cripple Stud',\n",
       "  'Cripple Stud',\n",
       "  'Wall Frame',\n",
       "  'Dimensional Lumber'],\n",
       " ['Wall Frame::Sill', 'Sill', 'Wall Frame', 'Sill']]"
      ]
     },
     "execution_count": 15,
     "metadata": {},
     "output_type": "execute_result"
    }
   ],
   "source": [
    "defs_list"
   ]
  },
  {
   "cell_type": "markdown",
   "metadata": {},
   "source": [
    "## Data Resource Creation"
   ]
  },
  {
   "cell_type": "markdown",
   "metadata": {},
   "source": [
    "Build a simple data package out of our refactored table."
   ]
  },
  {
   "cell_type": "code",
   "execution_count": 16,
   "metadata": {},
   "outputs": [],
   "source": [
    "header_list = ['qualified name', 'usage', 'owning definition', 'usage type (definition)']"
   ]
  },
  {
   "cell_type": "code",
   "execution_count": 17,
   "metadata": {},
   "outputs": [
    {
     "data": {
      "text/plain": [
       "['qualified name', 'usage', 'owning definition', 'usage type (definition)']"
      ]
     },
     "execution_count": 17,
     "metadata": {},
     "output_type": "execute_result"
    }
   ],
   "source": [
    "header_list"
   ]
  },
  {
   "cell_type": "markdown",
   "metadata": {},
   "source": [
    "Write the reformed table to a CSV."
   ]
  },
  {
   "cell_type": "code",
   "execution_count": 18,
   "metadata": {},
   "outputs": [],
   "source": [
    "f = open('frictionless_demo\\\\house_sample.csv', 'w')"
   ]
  },
  {
   "cell_type": "code",
   "execution_count": 19,
   "metadata": {},
   "outputs": [],
   "source": [
    "f.write(\",\".join(header_list) + \"\\n\")\n",
    "for use in defs_list:\n",
    "    f.write(\",\".join(use) + \"\\n\")\n",
    "    \n",
    "f.close()"
   ]
  },
  {
   "cell_type": "code",
   "execution_count": 42,
   "metadata": {},
   "outputs": [],
   "source": [
    "package = DP.Package()"
   ]
  },
  {
   "cell_type": "code",
   "execution_count": 43,
   "metadata": {},
   "outputs": [
    {
     "data": {
      "text/plain": [
       "{'profile': 'tabular-data-package',\n",
       " 'resources': [{'path': 'frictionless_demo\\\\house_sample.csv',\n",
       "   'profile': 'tabular-data-resource',\n",
       "   'name': 'house_sample',\n",
       "   'format': 'csv',\n",
       "   'mediatype': 'text/csv',\n",
       "   'encoding': 'utf-8',\n",
       "   'schema': {'fields': [{'name': 'qualified name',\n",
       "      'type': 'string',\n",
       "      'format': 'default'},\n",
       "     {'name': 'usage', 'type': 'string', 'format': 'default'},\n",
       "     {'name': 'owning definition', 'type': 'string', 'format': 'default'},\n",
       "     {'name': 'usage type (definition)',\n",
       "      'type': 'string',\n",
       "      'format': 'default'}],\n",
       "    'missingValues': ['']}}]}"
      ]
     },
     "execution_count": 43,
     "metadata": {},
     "output_type": "execute_result"
    }
   ],
   "source": [
    "package.infer('frictionless_demo\\\\house_sample.csv')"
   ]
  },
  {
   "cell_type": "code",
   "execution_count": 44,
   "metadata": {},
   "outputs": [],
   "source": [
    "package.descriptor['resources'][0]['schema']['fields'][0]['description'] = \\\n",
    "    'Qualified name for the usage. Use this is a key for the table.'"
   ]
  },
  {
   "cell_type": "code",
   "execution_count": 45,
   "metadata": {},
   "outputs": [],
   "source": [
    "package.descriptor['resources'][0]['schema']['fields'][1]['description'] = \\\n",
    "    'Name for the usage.'"
   ]
  },
  {
   "cell_type": "code",
   "execution_count": 46,
   "metadata": {},
   "outputs": [],
   "source": [
    "package.descriptor['resources'][0]['schema']['fields'][2]['description'] = \\\n",
    "    'The name of the definition that owns this usage.'"
   ]
  },
  {
   "cell_type": "code",
   "execution_count": 47,
   "metadata": {},
   "outputs": [],
   "source": [
    "package.descriptor['resources'][0]['schema']['fields'][3]['description'] = \\\n",
    "    'The definition that provies the type for this usage.'"
   ]
  },
  {
   "cell_type": "code",
   "execution_count": 48,
   "metadata": {},
   "outputs": [
    {
     "data": {
      "text/plain": [
       "{'profile': 'tabular-data-package',\n",
       " 'resources': [{'path': 'frictionless_demo\\\\house_sample.csv',\n",
       "   'profile': 'tabular-data-resource',\n",
       "   'name': 'house_sample',\n",
       "   'format': 'csv',\n",
       "   'mediatype': 'text/csv',\n",
       "   'encoding': 'utf-8',\n",
       "   'schema': {'fields': [{'name': 'qualified name',\n",
       "      'type': 'string',\n",
       "      'format': 'default',\n",
       "      'description': 'Qualified name for the usage. Use this is a key for the table.'},\n",
       "     {'name': 'usage',\n",
       "      'type': 'string',\n",
       "      'format': 'default',\n",
       "      'description': 'Name for the usage.'},\n",
       "     {'name': 'owning definition',\n",
       "      'type': 'string',\n",
       "      'format': 'default',\n",
       "      'description': 'The name of the definition that owns this usage.'},\n",
       "     {'name': 'usage type (definition)',\n",
       "      'type': 'string',\n",
       "      'format': 'default',\n",
       "      'description': 'The definition that provies the type for this usage.'}],\n",
       "    'missingValues': ['']}}]}"
      ]
     },
     "execution_count": 48,
     "metadata": {},
     "output_type": "execute_result"
    }
   ],
   "source": [
    "package.descriptor"
   ]
  },
  {
   "cell_type": "code",
   "execution_count": 49,
   "metadata": {},
   "outputs": [
    {
     "data": {
      "text/plain": [
       "True"
      ]
     },
     "execution_count": 49,
     "metadata": {},
     "output_type": "execute_result"
    }
   ],
   "source": [
    "package.commit()"
   ]
  },
  {
   "cell_type": "code",
   "execution_count": 50,
   "metadata": {},
   "outputs": [
    {
     "data": {
      "text/plain": [
       "True"
      ]
     },
     "execution_count": 50,
     "metadata": {},
     "output_type": "execute_result"
    }
   ],
   "source": [
    "package.save('modeldata.zip')"
   ]
  },
  {
   "cell_type": "code",
   "execution_count": null,
   "metadata": {},
   "outputs": [],
   "source": []
  }
 ],
 "metadata": {
  "kernelspec": {
   "display_name": "Python 3",
   "language": "python",
   "name": "python3"
  },
  "language_info": {
   "codemirror_mode": {
    "name": "ipython",
    "version": 3
   },
   "file_extension": ".py",
   "mimetype": "text/x-python",
   "name": "python",
   "nbconvert_exporter": "python",
   "pygments_lexer": "ipython3",
   "version": "3.7.2"
  }
 },
 "nbformat": 4,
 "nbformat_minor": 2
}
